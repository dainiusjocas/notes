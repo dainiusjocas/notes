{
 "cells": [
  {
   "cell_type": "code",
   "id": "initial_id",
   "metadata": {
    "collapsed": true,
    "ExecuteTime": {
     "end_time": "2025-10-20T07:35:13.522540Z",
     "start_time": "2025-10-20T07:35:13.511507Z"
    }
   },
   "source": [
    "%load_ext autoreload\n",
    "%autoreload 2\n",
    "import mycode.vap as vap"
   ],
   "outputs": [
    {
     "name": "stdout",
     "output_type": "stream",
     "text": [
      "The autoreload extension is already loaded. To reload it, use:\n",
      "  %reload_ext autoreload\n"
     ]
    }
   ],
   "execution_count": 298
  },
  {
   "metadata": {
    "ExecuteTime": {
     "end_time": "2025-10-20T07:37:08.003947Z",
     "start_time": "2025-10-20T07:37:07.994013Z"
    }
   },
   "cell_type": "code",
   "source": [
    "# The goal is to:\n",
    "# - Put a document with fields of various types into VESPA\n",
    "# - Fetch document fields with match features\n",
    "# - map match features to original document fields\n",
    "# - render the document using match features as if they were from original document"
   ],
   "id": "fe8e3b28d512ce23",
   "outputs": [],
   "execution_count": 299
  },
  {
   "metadata": {
    "ExecuteTime": {
     "end_time": "2025-10-20T07:37:09.655536Z",
     "start_time": "2025-10-20T07:37:09.642237Z"
    }
   },
   "cell_type": "code",
   "source": [
    "# Create a sample VAP\n",
    "from vespa.package import (ApplicationPackage, ServicesConfiguration, Field, Schema, Document, RankProfile, Function)\n",
    "from vespa.configuration.services import services, container, document_api, search, chain, searcher, \\\n",
    "    document_processing, content, documents, document, redundancy\n",
    "\n",
    "doc_schema = Schema(\n",
    "    name=\"doc\",\n",
    "    document=Document(\n",
    "        fields=[\n",
    "            Field(name=\"id\", type=\"int\", indexing=[\"attribute\"]),\n",
    "            Field(name=\"byte_field\", type=\"byte\", indexing=[\"attribute\"]),\n",
    "            Field(name=\"str\", type=\"string\", indexing=[\"attribute\"], ),\n",
    "            Field(name=\"my_tensor\", type=\"tensor<float>(x[1])\", indexing=[\"attribute\"]),\n",
    "            Field(name=\"int_array\", type=\"array<int>\", indexing=[\"attribute\"]),\n",
    "            Field(name=\"str_array\", type=\"array<string>\", indexing=[\"attribute\"]),\n",
    "            Field(name=\"bool_field\", type=\"bool\", indexing=[\"attribute\"]),\n",
    "            Field(name=\"double_field\", type=\"double\", indexing=[\"attribute\"]),\n",
    "            Field(name=\"weightedset_field\", type=\"weightedset<string>\", indexing=[\"attribute\"]),\n",
    "        ]\n",
    "    ),\n",
    "    rank_profiles=[\n",
    "        RankProfile(\n",
    "            name='fields',\n",
    "            inherits='unranked',\n",
    "            first_phase=\"0\",\n",
    "            functions=[\n",
    "                Function(name='id', expression='tensorFromLabels(attribute(id))'),\n",
    "                Function(name='str', expression='tensorFromLabels(attribute(str))'),\n",
    "                Function(name='my_tensor', expression='attribute(my_tensor)'),\n",
    "                Function(name='int_array', expression='tensorFromLabels(attribute(int_array))'),\n",
    "                Function(name='str_array', expression='tensorFromLabels(attribute(str_array))'),\n",
    "                Function(name='bool_field', expression='attribute(bool_field)'),\n",
    "                Function(name='double_field', expression='attribute(double_field)'),\n",
    "                Function(name='byte_field', expression='tensorFromLabels(attribute(byte_field))'),\n",
    "                Function(name='weightedset_field', expression='tensorFromWeightedSet(attribute(weightedset_field))'),\n",
    "            ],\n",
    "            match_features=[\n",
    "                'id', 'str', 'int_array', 'str_array', 'my_tensor', 'bool_field', 'double_field', 'byte_field',\n",
    "                'weightedset_field'\n",
    "            ],\n",
    "        )\n",
    "    ]\n",
    ")\n",
    "\n",
    "services_config = ServicesConfiguration(\n",
    "    application_name=\"test\",\n",
    "    services_config=services(\n",
    "        container(\n",
    "            document_api(),\n",
    "            document_processing(),\n",
    "            search(\n",
    "                chain(\n",
    "                    searcher(\n",
    "                        id=\"lt.jocas.examples.MatchFeaturesMapperSearcher\",\n",
    "                        bundle=\"match-features-mapper-bundle\",\n",
    "                    ),\n",
    "                    id=\"match_features_mapper\",\n",
    "                    inherits='vespa'\n",
    "                )\n",
    "            ),\n",
    "            id=\"container\",\n",
    "            version=\"1.0\"\n",
    "        ),\n",
    "        content(\n",
    "            redundancy(1),\n",
    "            documents(\n",
    "                document(type=\"doc\", mode=\"index\"),\n",
    "            ),\n",
    "            id=\"content\",\n",
    "            version=\"1.0\"\n",
    "        )\n",
    "    )\n",
    ")\n",
    "\n",
    "application_package = ApplicationPackage(\n",
    "    name='test',\n",
    "    schema=[doc_schema],\n",
    "    services_config=services_config,\n",
    ")"
   ],
   "id": "39a422ed5bbb1289",
   "outputs": [],
   "execution_count": 300
  },
  {
   "metadata": {},
   "cell_type": "code",
   "source": [
    "# Package into a bundle jar\n",
    "!(cd ../examples/match-features-mapper-bundle && mvn -f pom.xml package)\n",
    "# There should be a file `../examples/match-features-mapper-bundle/target/match-features-mapper-bundle-0.0.1-deploy.jar`\n",
    "!ls -alh ../examples/match-features-mapper-bundle/target/match-features-mapper-bundle-0.0.1-deploy.jar"
   ],
   "id": "f5d1714c51fd6591",
   "outputs": [],
   "execution_count": null
  },
  {
   "metadata": {
    "ExecuteTime": {
     "end_time": "2025-10-21T10:28:17.936525Z",
     "start_time": "2025-10-21T10:28:17.796493Z"
    }
   },
   "cell_type": "code",
   "source": [
    "# The relevant code is\n",
    "!cat ../examples/match-features-mapper-bundle/src/main/java/lt/jocas/examples/MatchFeaturesMapperSearcher.java"
   ],
   "id": "cbf83abeb0dd7918",
   "outputs": [
    {
     "name": "stdout",
     "output_type": "stream",
     "text": [
      "package lt.jocas.examples;\r\n",
      "\r\n",
      "import com.fasterxml.jackson.databind.node.JsonNodeFactory;\r\n",
      "import com.fasterxml.jackson.databind.node.TextNode;\r\n",
      "import com.yahoo.search.Query;\r\n",
      "import com.yahoo.search.Result;\r\n",
      "import com.yahoo.search.Searcher;\r\n",
      "import com.yahoo.search.result.FeatureData;\r\n",
      "import com.yahoo.search.result.Hit;\r\n",
      "import com.yahoo.search.schema.Field;\r\n",
      "import com.yahoo.search.schema.Schema;\r\n",
      "import com.yahoo.search.schema.SchemaInfo;\r\n",
      "import com.yahoo.search.searchchain.Execution;\r\n",
      "import com.yahoo.tensor.Tensor;\r\n",
      "import com.yahoo.tensor.TensorAddress;\r\n",
      "\r\n",
      "import javax.inject.Inject;\r\n",
      "import java.util.List;\r\n",
      "import java.util.Set;\r\n",
      "\r\n",
      "public class MatchFeaturesMapperSearcher extends Searcher {\r\n",
      "\r\n",
      "    private final static String MF = \"matchfeatures\";\r\n",
      "    // From here https://docs.vespa.ai/en/exposing-schema-information.html\r\n",
      "    private final SchemaInfo schemaInfo;\r\n",
      "    private final JsonNodeFactory jsonNodeFactory = JsonNodeFactory.instance;\r\n",
      "\r\n",
      "    @Inject\r\n",
      "    public MatchFeaturesMapperSearcher(SchemaInfo schemaInfo) {\r\n",
      "        this.schemaInfo = schemaInfo;\r\n",
      "    }\r\n",
      "\r\n",
      "    @Override\r\n",
      "    public Result search(Query query, Execution execution) {\r\n",
      "        return execution.search(query);\r\n",
      "    }\r\n",
      "\r\n",
      "    private boolean isMatchFeaturesInSummary(Result result) {\r\n",
      "        return result.getQuery().getPresentation().getSummaryFields().contains(MF);\r\n",
      "    }\r\n",
      "\r\n",
      "    private Object arrayFromTensorLabels(Tensor tensor) {\r\n",
      "        Set<TensorAddress> tensorAddresses = tensor.cells().keySet();\r\n",
      "        List<TextNode> labels = tensorAddresses.stream()\r\n",
      "                .map(tensorAddress -> tensorAddress.label(0))\r\n",
      "                .map(jsonNodeFactory::textNode)\r\n",
      "                .toList();\r\n",
      "        return jsonNodeFactory.arrayNode().addAll(labels);\r\n",
      "    }\r\n",
      "\r\n",
      "    private Object fromTensor(Tensor tensor, Field.Type.Kind kind) {\r\n",
      "        Set<TensorAddress> tensorAddresses = tensor.cells().keySet();\r\n",
      "\r\n",
      "        if (tensor.type().rank() == 0)\r\n",
      "            return tensor.asDouble();\r\n",
      "\r\n",
      "        if (tensorAddresses.size() == 1) {\r\n",
      "            return tensorAddresses.iterator().next().label(0);\r\n",
      "        }\r\n",
      "        return arrayFromTensorLabels(tensor);\r\n",
      "    }\r\n",
      "\r\n",
      "    private boolean boolFromTensor(Tensor tensor) {\r\n",
      "        Double value = tensor.cells().values().iterator().next();\r\n",
      "        return !value.equals(0.0d);\r\n",
      "    }\r\n",
      "\r\n",
      "    private long longFromTensor(Tensor tensor) {\r\n",
      "        Set<TensorAddress> tensorAddresses = tensor.cells().keySet();\r\n",
      "        String label = tensorAddresses.iterator().next().label(0);\r\n",
      "        return Long.parseLong(label);\r\n",
      "    }\r\n",
      "\r\n",
      "    private void handleHit(Hit hit, Schema schema) {\r\n",
      "        var matchFeatures = (FeatureData) hit.fields().get(MF);\r\n",
      "        for (String featureName : matchFeatures.featureNames()) {\r\n",
      "            Tensor tensor = matchFeatures.getTensor(featureName);\r\n",
      "\r\n",
      "            if (!schema.fields().containsKey(featureName)) {\r\n",
      "                // Schema does not have a named field then just remap\r\n",
      "                hit.setField(featureName, tensor);\r\n",
      "            } else {\r\n",
      "                // Schema contains a named field then make values correctly renderable\r\n",
      "                Field.Type.Kind kind = schema.fields().get(featureName).type().kind();\r\n",
      "                var value = switch (kind) {\r\n",
      "//                        case ANNOTATIONREFERENCE -> null;\r\n",
      "                    case ARRAY -> arrayFromTensorLabels(tensor);\r\n",
      "                    case BOOL -> boolFromTensor(tensor);\r\n",
      "                    case BYTE, INT, LONG -> longFromTensor(tensor);\r\n",
      "                    case FLOAT, DOUBLE -> tensor.asDouble(); // no need to wrap it\r\n",
      "//                        case MAP -> null;\r\n",
      "//                        case POSITION -> null;\r\n",
      "//                        case PREDICATE -> null;\r\n",
      "//                        case RAW -> null;\r\n",
      "//                        case REFERENCE -> null;\r\n",
      "                    case STRING -> fromTensor(tensor, kind);\r\n",
      "//                        case STRUCT -> null;\r\n",
      "                    case TENSOR -> tensor;\r\n",
      "//                        case URL -> null;\r\n",
      "//                        case WEIGHTEDSET -> null;\r\n",
      "                    default -> tensor;\r\n",
      "                };\r\n",
      "                hit.setField(featureName, value);\r\n",
      "            }\r\n",
      "        }\r\n",
      "        hit.removeField(MF);\r\n",
      "    }\r\n",
      "\r\n",
      "    private void fromMatchFeatures(Result result) {\r\n",
      "        // If matchfeatures are not asked, then we have nothing to do\r\n",
      "        if (!isMatchFeaturesInSummary(result)) return;\r\n",
      "\r\n",
      "        Set<String> restrict = result.getQuery().getModel().getRestrict();\r\n",
      "        // If more than one schema is searched, then we have to have the sddocname\r\n",
      "        // in each hit to properly resolve, which requires summary filling...\r\n",
      "        if (restrict.size() != 1) return;\r\n",
      "\r\n",
      "        String schemaName = restrict.iterator().next();\r\n",
      "        Schema schema = schemaInfo.schemas().get(schemaName);\r\n",
      "\r\n",
      "        result.hits().forEach(hit -> handleHit(hit, schema));\r\n",
      "    }\r\n",
      "\r\n",
      "    @Override\r\n",
      "    public void fill(Result result, String summaryClass, Execution execution) {\r\n",
      "        execution.fill(result, summaryClass);\r\n",
      "        fromMatchFeatures(result);\r\n",
      "    }\r\n",
      "}\r\n"
     ]
    }
   ],
   "execution_count": 1
  },
  {
   "metadata": {},
   "cell_type": "code",
   "source": [
    "from pathlib import Path\n",
    "\n",
    "# Currently, pyvespa provides no way to add bundle jars nicely into VAP\n",
    "# So, we need to do a little dance and add it manually.\n",
    "\n",
    "tmp_vap_folder = '_tmp'\n",
    "application_package.to_files(Path(tmp_vap_folder))\n",
    "\n",
    "vap.add_bundles(\n",
    "    application_root=tmp_vap_folder,\n",
    "    bundles=['../examples/match-features-mapper-bundle/target/match-features-mapper-bundle-0.0.1-deploy.jar']\n",
    ")\n",
    "\n",
    "from vespa.deployment import VespaDocker\n",
    "\n",
    "# In case running colima on macos run the following\n",
    "# !sudo ln -sf $HOME/.colima/default/docker.sock /var/run/docker.sock\n",
    "vespa_docker = VespaDocker(\n",
    "    container_image=\"vespaengine/vespa:8.588.8\",\n",
    ")\n",
    "\n",
    "client = vespa_docker.deploy_from_disk(\n",
    "    application_name='test',\n",
    "    application_root=Path(tmp_vap_folder),\n",
    ")"
   ],
   "id": "beb7f908ae5a12b8",
   "outputs": [],
   "execution_count": null
  },
  {
   "metadata": {},
   "cell_type": "code",
   "source": [
    "def compile_deploy():\n",
    "    a = !(cd ../examples/match-features-mapper-bundle && mvn -f pom.xml package)\n",
    "    tmp_vap_folder = '_tmp'\n",
    "    application_package.to_files(Path(tmp_vap_folder))\n",
    "    vap.add_bundles(\n",
    "        application_root=tmp_vap_folder,\n",
    "        bundles=['../examples/match-features-mapper-bundle/target/match-features-mapper-bundle-0.0.1-deploy.jar']\n",
    "    )\n",
    "    vap.redeploy_from_disk(\n",
    "        docker=vespa_docker,\n",
    "        application_root=tmp_vap_folder\n",
    "    )"
   ],
   "id": "a59c136bb557a216",
   "outputs": [],
   "execution_count": null
  },
  {
   "metadata": {
    "ExecuteTime": {
     "end_time": "2025-10-20T07:39:52.813582Z",
     "start_time": "2025-10-20T07:39:50.318642Z"
    }
   },
   "cell_type": "code",
   "source": "compile_deploy()",
   "id": "b78be521238e53fb",
   "outputs": [
    {
     "name": "stdout",
     "output_type": "stream",
     "text": [
      "Deploy status code: 200\n"
     ]
    }
   ],
   "execution_count": 301
  },
  {
   "metadata": {
    "ExecuteTime": {
     "end_time": "2025-10-20T07:39:55.072924Z",
     "start_time": "2025-10-20T07:39:55.049002Z"
    }
   },
   "cell_type": "code",
   "source": [
    "# Create and feed 1 dummy doc\n",
    "docs = [\n",
    "    {\n",
    "        'id': f'{1}',\n",
    "        'fields': {\n",
    "            'id': 1,\n",
    "            'str': 'foo',\n",
    "            'int_array': [1, 2],\n",
    "            'str_array': ['one', 'two'],\n",
    "            'my_tensor': [2],\n",
    "            'bool_field': True,\n",
    "            'double_field': 1.23,\n",
    "            'byte_field': 12,\n",
    "            'weightedset_field': {'bar': 9, 'baz': 8},\n",
    "        }\n",
    "    }\n",
    "]\n",
    "\n",
    "client.feed_iterable(docs, schema=\"doc\", namespace=\"doc\", callback=vap.feed_callback)"
   ],
   "id": "ff29e6ba48736237",
   "outputs": [],
   "execution_count": 302
  },
  {
   "metadata": {},
   "cell_type": "code",
   "source": "compile_deploy()",
   "id": "15e0822e91b1c534",
   "outputs": [],
   "execution_count": null
  },
  {
   "metadata": {
    "ExecuteTime": {
     "end_time": "2025-10-20T07:44:02.287385Z",
     "start_time": "2025-10-20T07:44:02.259002Z"
    }
   },
   "cell_type": "code",
   "source": [
    "client.query(body={\n",
    "    'yql': 'select documentid, matchfeatures from sources doc where true',\n",
    "    'searchChain': 'match_features_mapper',\n",
    "    'model.restrict': 'doc',\n",
    "    'ranking': 'fields',\n",
    "    # 'ranking': 'unranked',\n",
    "    'presentation.summary': 'default',\n",
    "    # 'trace.level': 1,\n",
    "    'presentation.format.tensors': 'short-value',\n",
    "}).json"
   ],
   "id": "c934f44656c5863b",
   "outputs": [
    {
     "data": {
      "text/plain": [
       "{'root': {'id': 'toplevel',\n",
       "  'relevance': 1.0,\n",
       "  'fields': {'totalCount': 1},\n",
       "  'coverage': {'coverage': 100,\n",
       "   'documents': 1,\n",
       "   'full': True,\n",
       "   'nodes': 1,\n",
       "   'results': 1,\n",
       "   'resultsFull': 1},\n",
       "  'children': [{'id': 'id:doc:doc::1',\n",
       "    'relevance': 0.0,\n",
       "    'source': 'content',\n",
       "    'fields': {'bool_field': True,\n",
       "     'byte_field': 12,\n",
       "     'double_field': 1.23,\n",
       "     'id': 1,\n",
       "     'int_array': ['1', '2'],\n",
       "     'my_tensor': [2.0],\n",
       "     'str': 'foo',\n",
       "     'str_array': ['one', 'two'],\n",
       "     'weightedset_field': {'bar': 9.0, 'baz': 8.0},\n",
       "     'documentid': 'id:doc:doc::1'}}]}}"
      ]
     },
     "execution_count": 305,
     "metadata": {},
     "output_type": "execute_result"
    }
   ],
   "execution_count": 305
  },
  {
   "metadata": {},
   "cell_type": "code",
   "source": "",
   "id": "96537af3927c3675",
   "outputs": [],
   "execution_count": null
  }
 ],
 "metadata": {
  "kernelspec": {
   "display_name": "Python 3",
   "language": "python",
   "name": "python3"
  },
  "language_info": {
   "codemirror_mode": {
    "name": "ipython",
    "version": 2
   },
   "file_extension": ".py",
   "mimetype": "text/x-python",
   "name": "python",
   "nbconvert_exporter": "python",
   "pygments_lexer": "ipython2",
   "version": "2.7.6"
  }
 },
 "nbformat": 4,
 "nbformat_minor": 5
}
