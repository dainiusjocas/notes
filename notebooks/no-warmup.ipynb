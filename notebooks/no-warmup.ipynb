{
 "cells": [
  {
   "cell_type": "code",
   "id": "initial_id",
   "metadata": {
    "collapsed": true,
    "ExecuteTime": {
     "end_time": "2025-10-21T15:18:48.995459Z",
     "start_time": "2025-10-21T15:18:48.773427Z"
    }
   },
   "source": [
    "%load_ext autoreload\n",
    "%autoreload 2\n",
    "import mycode.vap as vap"
   ],
   "outputs": [],
   "execution_count": 1
  },
  {
   "metadata": {
    "ExecuteTime": {
     "end_time": "2025-10-21T15:19:29.975003Z",
     "start_time": "2025-10-21T15:19:29.808214Z"
    }
   },
   "cell_type": "code",
   "source": "# The goal is to make a warmup-less search handler",
   "id": "56d290f7b8c30a24",
   "outputs": [],
   "execution_count": 2
  },
  {
   "metadata": {
    "ExecuteTime": {
     "end_time": "2025-10-21T20:11:36.919627Z",
     "start_time": "2025-10-21T20:11:36.876361Z"
    }
   },
   "cell_type": "code",
   "source": [
    "# Now let's prepare another application package with the new search chain\n",
    "from vespa.package import ServicesConfiguration, ApplicationPackage, Schema, Document, Field\n",
    "from vespa.configuration.services import services, container, document_api, search, chain, searcher, \\\n",
    "    document_processing, content, documents, document, redundancy, handler, binding\n",
    "\n",
    "doc_schema = Schema(\n",
    "    name=\"doc\",\n",
    "    document=Document(\n",
    "        fields=[Field(name=\"id\", type=\"int\", indexing=[\"attribute\"]),]\n",
    "    )\n",
    ")\n",
    "\n",
    "application_package = ApplicationPackage(\n",
    "    name='test',\n",
    "    schema=[doc_schema],\n",
    "    services_config=ServicesConfiguration(\n",
    "        application_name=\"test\",\n",
    "        services_config=services(\n",
    "            container(\n",
    "                document_api(),\n",
    "                document_processing(),\n",
    "                search(),\n",
    "                handler(\n",
    "                    # binding('http://*/foo/'),\n",
    "                    bundle=\"warmup-bundle\",\n",
    "                    id='lt.jocas.examples.FooBar'\n",
    "                    # id=\"com.yahoo.search.handler.NoWarmupSearchHandler\",\n",
    "                ),\n",
    "                id=\"test_container\",\n",
    "                version=\"1.0\"\n",
    "            ),\n",
    "            content(\n",
    "                redundancy(1),\n",
    "                documents(\n",
    "                    document(type=\"doc\", mode=\"index\"),\n",
    "                ),\n",
    "                id=\"test_content\",\n",
    "                version=\"1.0\"\n",
    "            )\n",
    "        )\n",
    "    )\n",
    ")"
   ],
   "id": "27acf8d3cb938171",
   "outputs": [],
   "execution_count": 53
  },
  {
   "metadata": {
    "ExecuteTime": {
     "end_time": "2025-10-21T19:38:11.751483Z",
     "start_time": "2025-10-21T19:38:07.537988Z"
    }
   },
   "cell_type": "code",
   "source": [
    "# Package into a bundle jar\n",
    "!(cd ../examples/warmup-bundle && mvn -f pom.xml package)\n",
    "# There should be a file `../examples/warmup-bundle/target/warmup-bundle-0.0.1-deploy.jar`\n",
    "!ls -alh ../examples/warmup-bundle/target/warmup-bundle-0.0.1-deploy.jar"
   ],
   "id": "9ac04729bf8469af",
   "outputs": [
    {
     "name": "stdout",
     "output_type": "stream",
     "text": [
      "[\u001B[1;34mINFO\u001B[m] Scanning for projects...\r\n",
      "[\u001B[1;34mINFO\u001B[m] \r\n",
      "[\u001B[1;34mINFO\u001B[m] \u001B[1m------------------< \u001B[0;36mlt.jocas.examples:warmup-bundle\u001B[0;1m >-------------------\u001B[m\r\n",
      "[\u001B[1;34mINFO\u001B[m] \u001B[1mBuilding warmup-bundle 0.0.1\u001B[m\r\n",
      "[\u001B[1;34mINFO\u001B[m]   from pom.xml\r\n",
      "[\u001B[1;34mINFO\u001B[m] \u001B[1m--------------------------[ container-plugin ]--------------------------\u001B[m\r\n",
      "[\u001B[1;33mWARNING\u001B[m] Ignoring incompatible plugin version 4.0.0-beta-1: The plugin org.apache.maven.plugins:maven-resources-plugin:4.0.0-beta-1 requires Maven version 4.0.0-beta-3\r\n",
      "[\u001B[1;34mINFO\u001B[m] Latest version of plugin org.apache.maven.plugins:maven-resources-plugin failed compatibility check\r\n",
      "[\u001B[1;34mINFO\u001B[m] Looking for compatible RELEASE version of plugin org.apache.maven.plugins:maven-resources-plugin\r\n",
      "[\u001B[1;34mINFO\u001B[m] Selected plugin org.apache.maven.plugins:maven-resources-plugin:3.3.1\r\n",
      "[\u001B[1;33mWARNING\u001B[m] Ignoring incompatible plugin version 4.0.0-beta-2: The plugin org.apache.maven.plugins:maven-install-plugin:4.0.0-beta-2 requires Maven version 4.0.0-rc-2\r\n",
      "[\u001B[1;34mINFO\u001B[m] Latest version of plugin org.apache.maven.plugins:maven-install-plugin failed compatibility check\r\n",
      "[\u001B[1;34mINFO\u001B[m] Looking for compatible RELEASE version of plugin org.apache.maven.plugins:maven-install-plugin\r\n",
      "[\u001B[1;33mWARNING\u001B[m] Ignoring incompatible plugin version 4.0.0-beta-1: The plugin org.apache.maven.plugins:maven-install-plugin:4.0.0-beta-1 requires Maven version 4.0.0-beta-3\r\n",
      "[\u001B[1;34mINFO\u001B[m] Selected plugin org.apache.maven.plugins:maven-install-plugin:3.1.4\r\n",
      "[\u001B[1;33mWARNING\u001B[m] Ignoring incompatible plugin version 4.0.0-beta-2: The plugin org.apache.maven.plugins:maven-deploy-plugin:4.0.0-beta-2 requires Maven version 4.0.0-rc-2\r\n",
      "[\u001B[1;34mINFO\u001B[m] Latest version of plugin org.apache.maven.plugins:maven-deploy-plugin failed compatibility check\r\n",
      "[\u001B[1;34mINFO\u001B[m] Looking for compatible RELEASE version of plugin org.apache.maven.plugins:maven-deploy-plugin\r\n",
      "[\u001B[1;33mWARNING\u001B[m] Ignoring incompatible plugin version 4.0.0-beta-1: The plugin org.apache.maven.plugins:maven-deploy-plugin:4.0.0-beta-1 requires Maven version 4.0.0-beta-3\r\n",
      "[\u001B[1;34mINFO\u001B[m] Selected plugin org.apache.maven.plugins:maven-deploy-plugin:3.1.4\r\n",
      "[\u001B[1;34mINFO\u001B[m] \r\n",
      "[\u001B[1;34mINFO\u001B[m] \u001B[1m--- \u001B[0;32mvespa-bundle:8.588.8:generateSources\u001B[m \u001B[1m(default-generateSources)\u001B[m @ \u001B[36mwarmup-bundle\u001B[0;1m ---\u001B[m\r\n",
      "[\u001B[1;33mWARNING\u001B[m] Did not find either container or container-dev artifact in project dependencies, using default version '8.588.8' of the config class plugin.\r\n",
      "[\u001B[1;34mINFO\u001B[m] \r\n",
      "[\u001B[1;34mINFO\u001B[m] \u001B[1m--- \u001B[0;32mresources:3.3.1:resources\u001B[m \u001B[1m(default-resources)\u001B[m @ \u001B[36mwarmup-bundle\u001B[0;1m ---\u001B[m\r\n",
      "[\u001B[1;34mINFO\u001B[m] skip non existing resourceDirectory /Users/dainius.jocas/p/lab/examples/warmup-bundle/src/main/resources\r\n",
      "[\u001B[1;34mINFO\u001B[m] \r\n",
      "[\u001B[1;34mINFO\u001B[m] \u001B[1m--- \u001B[0;32mcompiler:3.11.0:compile\u001B[m \u001B[1m(default-compile)\u001B[m @ \u001B[36mwarmup-bundle\u001B[0;1m ---\u001B[m\r\n",
      "[\u001B[1;34mINFO\u001B[m] Nothing to compile - all classes are up to date\r\n",
      "[\u001B[1;34mINFO\u001B[m] \r\n",
      "[\u001B[1;34mINFO\u001B[m] \u001B[1m--- \u001B[0;32mresources:3.3.1:testResources\u001B[m \u001B[1m(default-testResources)\u001B[m @ \u001B[36mwarmup-bundle\u001B[0;1m ---\u001B[m\r\n",
      "[\u001B[1;34mINFO\u001B[m] skip non existing resourceDirectory /Users/dainius.jocas/p/lab/examples/warmup-bundle/src/test/resources\r\n",
      "[\u001B[1;34mINFO\u001B[m] \r\n",
      "[\u001B[1;34mINFO\u001B[m] \u001B[1m--- \u001B[0;32mcompiler:3.11.0:testCompile\u001B[m \u001B[1m(default-testCompile)\u001B[m @ \u001B[36mwarmup-bundle\u001B[0;1m ---\u001B[m\r\n",
      "[\u001B[1;34mINFO\u001B[m] No sources to compile\r\n",
      "[\u001B[1;34mINFO\u001B[m] \r\n",
      "[\u001B[1;34mINFO\u001B[m] \u001B[1m--- \u001B[0;32msurefire:3.5.4:test\u001B[m \u001B[1m(default-test)\u001B[m @ \u001B[36mwarmup-bundle\u001B[0;1m ---\u001B[m\r\n",
      "[\u001B[1;34mINFO\u001B[m] No tests to run.\r\n",
      "[\u001B[1;34mINFO\u001B[m] \r\n",
      "[\u001B[1;34mINFO\u001B[m] \u001B[1m--- \u001B[0;32mvespa-bundle:8.588.8:generate-osgi-manifest\u001B[m \u001B[1m(default-generate-osgi-manifest)\u001B[m @ \u001B[36mwarmup-bundle\u001B[0;1m ---\u001B[m\r\n",
      "[\u001B[1;33mWARNING\u001B[m] This project defines packages that are also defined in provided scoped dependencies (overlapping packages are strongly discouraged): [com.yahoo.search.handler]\r\n",
      "[\u001B[1;33mWARNING\u001B[m] This project uses packages that are not part of Vespa's public api: [ai.vespa.metrics, com.yahoo.container.core, com.yahoo.container.handler.threadpool, com.yahoo.container.logging, com.yahoo.language.provider]\r\n",
      "[\u001B[1;34mINFO\u001B[m] \r\n",
      "[\u001B[1;34mINFO\u001B[m] \u001B[1m--- \u001B[0;32mvespa-bundle:8.588.8:assemble-container-plugin\u001B[m \u001B[1m(default-assemble-container-plugin)\u001B[m @ \u001B[36mwarmup-bundle\u001B[0;1m ---\u001B[m\r\n",
      "[\u001B[1;34mINFO\u001B[m] Building jar: /Users/dainius.jocas/p/lab/examples/warmup-bundle/target/warmup-bundle-0.0.1-without-dependencies.jar\r\n",
      "[\u001B[1;34mINFO\u001B[m] Building jar: /Users/dainius.jocas/p/lab/examples/warmup-bundle/target/warmup-bundle-0.0.1-deploy.jar\r\n",
      "[\u001B[1;34mINFO\u001B[m] \r\n",
      "[\u001B[1;34mINFO\u001B[m] \u001B[1m--- \u001B[0;32mvespa-app:8.588.8:packageApplication\u001B[m \u001B[1m(default)\u001B[m @ \u001B[36mwarmup-bundle\u001B[0;1m ---\u001B[m\r\n",
      "[\u001B[1;34mINFO\u001B[m] Copying bundle to application: warmup-bundle-0.0.1-deploy.jar\r\n",
      "[\u001B[1;34mINFO\u001B[m] \u001B[1m------------------------------------------------------------------------\u001B[m\r\n",
      "[\u001B[1;34mINFO\u001B[m] \u001B[1;32mBUILD SUCCESS\u001B[m\r\n",
      "[\u001B[1;34mINFO\u001B[m] \u001B[1m------------------------------------------------------------------------\u001B[m\r\n",
      "[\u001B[1;34mINFO\u001B[m] Total time:  3.084 s\r\n",
      "[\u001B[1;34mINFO\u001B[m] Finished at: 2025-10-21T22:38:11+03:00\r\n",
      "[\u001B[1;34mINFO\u001B[m] \u001B[1m------------------------------------------------------------------------\u001B[m\r\n",
      "\u001B[0m\u001B[0m-rw-r--r--@ 1 dainius.jocas  staff    39M Oct 21 22:38 ../examples/warmup-bundle/target/warmup-bundle-0.0.1-deploy.jar\r\n"
     ]
    }
   ],
   "execution_count": 39
  },
  {
   "metadata": {
    "ExecuteTime": {
     "end_time": "2025-10-21T19:01:26.831907Z",
     "start_time": "2025-10-21T19:01:26.796400Z"
    }
   },
   "cell_type": "code",
   "source": [
    "from pathlib import Path\n",
    "\n",
    "# Currently, pyvespa provides no way to add bundle jars nicely into VAP\n",
    "# So, we need to do a little dance and add it manually.\n",
    "\n",
    "tmp_vap_folder = '_tmp'\n",
    "application_package.to_files(Path(tmp_vap_folder))\n",
    "\n",
    "vap.add_bundles(\n",
    "    application_root=tmp_vap_folder,\n",
    "    bundles=['../examples/warmup-bundle/target/warmup-bundle-0.0.1-deploy.jar']\n",
    ")\n"
   ],
   "id": "6c8237e41f78e3",
   "outputs": [],
   "execution_count": 33
  },
  {
   "metadata": {
    "ExecuteTime": {
     "end_time": "2025-10-21T15:50:08.747483Z",
     "start_time": "2025-10-21T15:49:39.408021Z"
    }
   },
   "cell_type": "code",
   "source": [
    "\n",
    "from vespa.deployment import VespaDocker\n",
    "\n",
    "# In case running colima on macos run the following\n",
    "# !sudo ln -sf $HOME/.colima/default/docker.sock /var/run/docker.sock\n",
    "vespa_docker = VespaDocker(\n",
    "    container_image=\"vespaengine/vespa:8.596.20\",\n",
    ")\n",
    "\n",
    "client = vespa_docker.deploy_from_disk(\n",
    "    application_name='warmup',\n",
    "    application_root=Path(tmp_vap_folder),\n",
    ")"
   ],
   "id": "bf641c86aab3e271",
   "outputs": [
    {
     "name": "stdout",
     "output_type": "stream",
     "text": [
      "Waiting for configuration server, 0/60 seconds...\n",
      "Waiting for configuration server, 5/60 seconds...\n",
      "Waiting for application to come up, 0/300 seconds.\n",
      "Waiting for application to come up, 5/300 seconds.\n",
      "Waiting for application to come up, 10/300 seconds.\n",
      "Application is up!\n",
      "Finished deployment.\n"
     ]
    }
   ],
   "execution_count": 13
  },
  {
   "metadata": {
    "ExecuteTime": {
     "end_time": "2025-10-21T15:54:26.666Z",
     "start_time": "2025-10-21T15:54:26.655409Z"
    }
   },
   "cell_type": "code",
   "source": [
    "def compile_deploy():\n",
    "    a = !(cd ../examples/warmup-bundle && mvn -f pom.xml package)\n",
    "    tmp_vap_folder = '_tmp'\n",
    "    application_package.to_files(Path(tmp_vap_folder))\n",
    "    vap.add_bundles(\n",
    "        application_root=tmp_vap_folder,\n",
    "        bundles=['../examples/warmup-bundle/target/warmup-bundle-0.0.1-deploy.jar']\n",
    "    )\n",
    "    vap.redeploy_from_disk(\n",
    "        docker=vespa_docker,\n",
    "        application_root=tmp_vap_folder\n",
    "    )"
   ],
   "id": "21eb0139b4a90867",
   "outputs": [],
   "execution_count": 20
  },
  {
   "metadata": {
    "ExecuteTime": {
     "end_time": "2025-10-21T20:11:46.747389Z",
     "start_time": "2025-10-21T20:11:40.758906Z"
    }
   },
   "cell_type": "code",
   "source": "compile_deploy()",
   "id": "a7e28ecb38272529",
   "outputs": [
    {
     "name": "stdout",
     "output_type": "stream",
     "text": [
      "Deploy status code: 200\n"
     ]
    }
   ],
   "execution_count": 54
  },
  {
   "metadata": {},
   "cell_type": "code",
   "outputs": [],
   "execution_count": null,
   "source": "",
   "id": "2267def3d81c1e7b"
  }
 ],
 "metadata": {
  "kernelspec": {
   "display_name": "Python 3",
   "language": "python",
   "name": "python3"
  },
  "language_info": {
   "codemirror_mode": {
    "name": "ipython",
    "version": 2
   },
   "file_extension": ".py",
   "mimetype": "text/x-python",
   "name": "python",
   "nbconvert_exporter": "python",
   "pygments_lexer": "ipython2",
   "version": "2.7.6"
  }
 },
 "nbformat": 4,
 "nbformat_minor": 5
}
