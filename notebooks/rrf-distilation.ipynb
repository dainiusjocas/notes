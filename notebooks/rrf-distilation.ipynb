{
 "cells": [
  {
   "cell_type": "code",
   "id": "initial_id",
   "metadata": {
    "collapsed": true,
    "ExecuteTime": {
     "end_time": "2025-10-28T10:17:43.867175Z",
     "start_time": "2025-10-28T10:17:43.847482Z"
    }
   },
   "source": [
    "%load_ext autoreload\n",
    "%autoreload 2"
   ],
   "outputs": [],
   "execution_count": 1
  },
  {
   "metadata": {
    "ExecuteTime": {
     "end_time": "2025-10-28T10:20:29.886262Z",
     "start_time": "2025-10-28T10:20:29.770914Z"
    }
   },
   "cell_type": "code",
   "source": [
    "# The goal is to have Vespa app that does result distillation: first put 10 hits with one ranking signal then 10 with the other.\n",
    "# Implement that with a global-phase RRF\n",
    "# An extra is to show how blending with RRF looks visually: 0 for f1 X for f2.\n",
    "# Draw a grid of 50 x 50 and fill with results."
   ],
   "id": "5ce03d70eaa2328b",
   "outputs": [],
   "execution_count": 2
  },
  {
   "metadata": {},
   "cell_type": "code",
   "outputs": [],
   "execution_count": null,
   "source": "",
   "id": "ed02ecfb236f03da"
  }
 ],
 "metadata": {
  "kernelspec": {
   "display_name": "Python 3",
   "language": "python",
   "name": "python3"
  },
  "language_info": {
   "codemirror_mode": {
    "name": "ipython",
    "version": 2
   },
   "file_extension": ".py",
   "mimetype": "text/x-python",
   "name": "python",
   "nbconvert_exporter": "python",
   "pygments_lexer": "ipython2",
   "version": "2.7.6"
  }
 },
 "nbformat": 4,
 "nbformat_minor": 5
}
