{
 "cells": [
  {
   "cell_type": "code",
   "id": "initial_id",
   "metadata": {
    "collapsed": true,
    "ExecuteTime": {
     "end_time": "2025-10-28T10:17:43.867175Z",
     "start_time": "2025-10-28T10:17:43.847482Z"
    }
   },
   "source": [
    "%load_ext autoreload\n",
    "%autoreload 2"
   ],
   "outputs": [],
   "execution_count": 1
  },
  {
   "metadata": {
    "ExecuteTime": {
     "end_time": "2025-10-28T10:20:29.886262Z",
     "start_time": "2025-10-28T10:20:29.770914Z"
    }
   },
   "cell_type": "code",
   "source": [
    "# The goal is to have Vespa app that does result distillation: first put 10 hits with one ranking signal then 10 with the other.\n",
    "# Implement that with a global-phase RRF\n",
    "# An extra is to show how blending with RRF looks visually: 0 for f1 X for f2.\n",
    "# Draw a grid of 50 x 50 and fill with results."
   ],
   "id": "5ce03d70eaa2328b",
   "outputs": [],
   "execution_count": 2
  },
  {
   "metadata": {
    "ExecuteTime": {
     "end_time": "2025-10-28T20:35:39.643846Z",
     "start_time": "2025-10-28T20:35:39.640982Z"
    }
   },
   "cell_type": "code",
   "source": [
    "def rrf(rank, k):\n",
    "    return 1 / (rank + k)"
   ],
   "id": "ed02ecfb236f03da",
   "outputs": [],
   "execution_count": 1
  },
  {
   "metadata": {
    "ExecuteTime": {
     "end_time": "2025-10-29T07:59:11.273403Z",
     "start_time": "2025-10-29T07:59:11.269736Z"
    }
   },
   "cell_type": "code",
   "source": [
    "f1 = range(1, 100)\n",
    "f2 = range(1, 10)\n",
    "\n",
    "f1_rrf = [('0', rrf(rank, 10)) for rank in f1]\n",
    "f2_rrf = [('X', rrf(rank, 2) * rrf(rank, 2)) for rank in f2] # very interesting take\n",
    "final = sorted(f1_rrf + f2_rrf, key=lambda x: x[1], reverse=True)\n",
    "\n",
    "def chunk(lst, size):\n",
    "    return [lst[i:i + size] for i in range(0, len(lst), size)]\n",
    "\n",
    "def make_red(s):\n",
    "    if s != 'X':\n",
    "        return s\n",
    "    return '\\033[91m' + s + '\\033[0m'\n",
    "\n",
    "for ch in chunk(final, 20):\n",
    "    a = [make_red(c[0]) for c in ch]\n",
    "    print('_'.join(a))"
   ],
   "id": "b95ceea8537dc0ac",
   "outputs": [
    {
     "name": "stdout",
     "output_type": "stream",
     "text": [
      "\u001B[91mX\u001B[0m_0_0_0_0_0_0_\u001B[91mX\u001B[0m_0_0_0_0_0_0_0_0_\u001B[91mX\u001B[0m_0_0_0\n",
      "0_0_0_0_0_0_0_0_0_\u001B[91mX\u001B[0m_0_0_0_0_0_0_0_0_0_0\n",
      "0_0_0_\u001B[91mX\u001B[0m_0_0_0_0_0_0_0_0_0_0_0_0_0_0_0_\u001B[91mX\u001B[0m\n",
      "0_0_0_0_0_0_0_0_0_0_0_0_0_0_0_0_0_\u001B[91mX\u001B[0m_0_0\n",
      "0_0_0_0_0_0_0_0_0_0_0_0_0_0_0_0_\u001B[91mX\u001B[0m_0_0_0\n",
      "0_0_0_0_0_0_0_\u001B[91mX\u001B[0m\n"
     ]
    }
   ],
   "execution_count": 73
  },
  {
   "metadata": {
    "ExecuteTime": {
     "end_time": "2025-10-28T21:04:35.991338Z",
     "start_time": "2025-10-28T21:04:34.559179Z"
    }
   },
   "cell_type": "code",
   "source": "from matplotlib import pyplot as plt",
   "id": "9995ee82d116369f",
   "outputs": [],
   "execution_count": 35
  },
  {
   "metadata": {
    "ExecuteTime": {
     "end_time": "2025-10-28T21:34:47.585142Z",
     "start_time": "2025-10-28T21:34:47.543428Z"
    }
   },
   "cell_type": "code",
   "source": [
    "import numpy as np\n",
    "x = np.linspace(1, 100, 99)  # 100 points from -10 to 10\n",
    "w1 = 1\n",
    "k1 = 6\n",
    "y = w1 / (x + k1)  # Example function\n",
    "plt.plot(x, y)\n",
    "w2 = 3\n",
    "k2 = 3\n",
    "y = w2 / (x + k2)\n",
    "plt.plot(x, y)\n",
    "plt.axis((0.0, 100, 0, 1.1))\n",
    "plt.xlabel('x')\n",
    "plt.ylabel('RRF')\n",
    "plt.title('Plot of rrf(x)')\n",
    "plt.show()"
   ],
   "id": "ed102554577efb42",
   "outputs": [
    {
     "data": {
      "text/plain": [
       "<Figure size 640x480 with 1 Axes>"
      ],
      "image/png": "[encoded data removed]"
     },
     "metadata": {},
     "output_type": "display_data",
     "jetTransient": {
      "display_id": null
     }
    }
   ],
   "execution_count": 70
  },
  {
   "metadata": {},
   "cell_type": "code",
   "outputs": [],
   "execution_count": null,
   "source": "",
   "id": "16c404d72c891f51"
  }
 ],
 "metadata": {
  "kernelspec": {
   "display_name": "Python 3",
   "language": "python",
   "name": "python3"
  },
  "language_info": {
   "codemirror_mode": {
    "name": "ipython",
    "version": 2
   },
   "file_extension": ".py",
   "mimetype": "text/x-python",
   "name": "python",
   "nbconvert_exporter": "python",
   "pygments_lexer": "ipython2",
   "version": "2.7.6"
  }
 },
 "nbformat": 4,
 "nbformat_minor": 5
}
